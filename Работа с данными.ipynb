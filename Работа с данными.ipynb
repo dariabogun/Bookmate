{
 "cells": [
  {
   "cell_type": "markdown",
   "metadata": {},
   "source": [
    "# Работа с данными \n",
    "\n",
    "Предположим в июле провели специальную акцию, направленную на улучшение ретеншена. Новым юзерам слали письмо с купоном. Сработала ли акция?\n",
    "\n",
    "https://drive.google.com/file/d/18CZKLXpbZfR44SunmzSuFvc0kI9U8n_K/view?usp=sharing\n",
    "\n",
    "сделать можно на питоне в юпитер или экселе или в гугл шите, даже можете в sql сделать, как удобнее.\n",
    "обратно нужно дать файл с формулами или кодом и описание того, как получился результат поэтапно.\n"
   ]
  },
  {
   "cell_type": "code",
   "execution_count": 170,
   "metadata": {},
   "outputs": [
    {
     "data": {
      "text/html": [
       "<div>\n",
       "<style scoped>\n",
       "    .dataframe tbody tr th:only-of-type {\n",
       "        vertical-align: middle;\n",
       "    }\n",
       "\n",
       "    .dataframe tbody tr th {\n",
       "        vertical-align: top;\n",
       "    }\n",
       "\n",
       "    .dataframe thead th {\n",
       "        text-align: right;\n",
       "    }\n",
       "</style>\n",
       "<table border=\"1\" class=\"dataframe\">\n",
       "  <thead>\n",
       "    <tr style=\"text-align: right;\">\n",
       "      <th></th>\n",
       "      <th>user_id</th>\n",
       "      <th>order_id</th>\n",
       "      <th>reg_date</th>\n",
       "      <th>transaction_date</th>\n",
       "      <th>revenue</th>\n",
       "    </tr>\n",
       "  </thead>\n",
       "  <tbody>\n",
       "    <tr>\n",
       "      <th>0</th>\n",
       "      <td>57562</td>\n",
       "      <td>94545.0</td>\n",
       "      <td>2013-12-22</td>\n",
       "      <td>2015-07-16</td>\n",
       "      <td>1088</td>\n",
       "    </tr>\n",
       "    <tr>\n",
       "      <th>1</th>\n",
       "      <td>40047</td>\n",
       "      <td>81824.0</td>\n",
       "      <td>2013-11-24</td>\n",
       "      <td>2015-01-19</td>\n",
       "      <td>1027</td>\n",
       "    </tr>\n",
       "    <tr>\n",
       "      <th>2</th>\n",
       "      <td>48153</td>\n",
       "      <td>144851.0</td>\n",
       "      <td>2015-07-03</td>\n",
       "      <td>2015-10-29</td>\n",
       "      <td>601</td>\n",
       "    </tr>\n",
       "    <tr>\n",
       "      <th>3</th>\n",
       "      <td>54591</td>\n",
       "      <td>116111.0</td>\n",
       "      <td>2013-07-12</td>\n",
       "      <td>2015-04-30</td>\n",
       "      <td>881</td>\n",
       "    </tr>\n",
       "    <tr>\n",
       "      <th>4</th>\n",
       "      <td>39789</td>\n",
       "      <td>134943.0</td>\n",
       "      <td>2013-05-25</td>\n",
       "      <td>2015-07-21</td>\n",
       "      <td>984</td>\n",
       "    </tr>\n",
       "  </tbody>\n",
       "</table>\n",
       "</div>"
      ],
      "text/plain": [
       "   user_id  order_id    reg_date transaction_date  revenue\n",
       "0    57562   94545.0  2013-12-22       2015-07-16     1088\n",
       "1    40047   81824.0  2013-11-24       2015-01-19     1027\n",
       "2    48153  144851.0  2015-07-03       2015-10-29      601\n",
       "3    54591  116111.0  2013-07-12       2015-04-30      881\n",
       "4    39789  134943.0  2013-05-25       2015-07-21      984"
      ]
     },
     "execution_count": 170,
     "metadata": {},
     "output_type": "execute_result"
    }
   ],
   "source": [
    "import numpy as np\n",
    "import pandas as pd\n",
    "\n",
    "# импорт данных\n",
    "df = pd.read_csv('analyst_test_transactions_db.csv', delimiter=',')\n",
    "df.head()"
   ]
  },
  {
   "cell_type": "code",
   "execution_count": 2,
   "metadata": {},
   "outputs": [
    {
     "data": {
      "text/html": [
       "<div>\n",
       "<style scoped>\n",
       "    .dataframe tbody tr th:only-of-type {\n",
       "        vertical-align: middle;\n",
       "    }\n",
       "\n",
       "    .dataframe tbody tr th {\n",
       "        vertical-align: top;\n",
       "    }\n",
       "\n",
       "    .dataframe thead th {\n",
       "        text-align: right;\n",
       "    }\n",
       "</style>\n",
       "<table border=\"1\" class=\"dataframe\">\n",
       "  <thead>\n",
       "    <tr style=\"text-align: right;\">\n",
       "      <th></th>\n",
       "      <th>user_id</th>\n",
       "      <th>order_id</th>\n",
       "      <th>reg_date</th>\n",
       "      <th>transaction_date</th>\n",
       "      <th>revenue</th>\n",
       "    </tr>\n",
       "  </thead>\n",
       "  <tbody>\n",
       "    <tr>\n",
       "      <th>37842</th>\n",
       "      <td>53201</td>\n",
       "      <td>115680.0</td>\n",
       "      <td>2015-11-20</td>\n",
       "      <td>2015-11-20</td>\n",
       "      <td>749</td>\n",
       "    </tr>\n",
       "    <tr>\n",
       "      <th>51574</th>\n",
       "      <td>41823</td>\n",
       "      <td>145416.0</td>\n",
       "      <td>2015-11-20</td>\n",
       "      <td>2015-11-20</td>\n",
       "      <td>1118</td>\n",
       "    </tr>\n",
       "    <tr>\n",
       "      <th>3091</th>\n",
       "      <td>57593</td>\n",
       "      <td>46617.0</td>\n",
       "      <td>2015-11-20</td>\n",
       "      <td>2015-11-20</td>\n",
       "      <td>713</td>\n",
       "    </tr>\n",
       "    <tr>\n",
       "      <th>57677</th>\n",
       "      <td>56308</td>\n",
       "      <td>-16479.0</td>\n",
       "      <td>2015-11-20</td>\n",
       "      <td>2015-11-20</td>\n",
       "      <td>940</td>\n",
       "    </tr>\n",
       "    <tr>\n",
       "      <th>75303</th>\n",
       "      <td>38278</td>\n",
       "      <td>-21334.0</td>\n",
       "      <td>2015-11-20</td>\n",
       "      <td>2015-11-20</td>\n",
       "      <td>1299</td>\n",
       "    </tr>\n",
       "  </tbody>\n",
       "</table>\n",
       "</div>"
      ],
      "text/plain": [
       "       user_id  order_id    reg_date transaction_date  revenue\n",
       "37842    53201  115680.0  2015-11-20       2015-11-20      749\n",
       "51574    41823  145416.0  2015-11-20       2015-11-20     1118\n",
       "3091     57593   46617.0  2015-11-20       2015-11-20      713\n",
       "57677    56308  -16479.0  2015-11-20       2015-11-20      940\n",
       "75303    38278  -21334.0  2015-11-20       2015-11-20     1299"
      ]
     },
     "execution_count": 2,
     "metadata": {},
     "output_type": "execute_result"
    }
   ],
   "source": [
    "df = df.sort_values(['reg_date'], ascending=[False])\n",
    "df.head(5)"
   ]
  },
  {
   "cell_type": "code",
   "execution_count": 3,
   "metadata": {},
   "outputs": [
    {
     "name": "stdout",
     "output_type": "stream",
     "text": [
      "<class 'pandas.core.frame.DataFrame'>\n",
      "Int64Index: 76857 entries, 37842 to 69591\n",
      "Data columns (total 5 columns):\n",
      "user_id             76857 non-null int64\n",
      "order_id            76857 non-null float64\n",
      "reg_date            76857 non-null object\n",
      "transaction_date    76857 non-null object\n",
      "revenue             76857 non-null int64\n",
      "dtypes: float64(1), int64(2), object(2)\n",
      "memory usage: 3.5+ MB\n"
     ]
    }
   ],
   "source": [
    "# вывод информации по данным\n",
    "df.info()"
   ]
  },
  {
   "cell_type": "code",
   "execution_count": 4,
   "metadata": {},
   "outputs": [
    {
     "data": {
      "text/plain": [
       "user_id             48214\n",
       "order_id            76857\n",
       "reg_date             1363\n",
       "transaction_date      324\n",
       "revenue              1630\n",
       "dtype: int64"
      ]
     },
     "execution_count": 4,
     "metadata": {},
     "output_type": "execute_result"
    }
   ],
   "source": [
    "# вывод количества уникальных значений для анализа.\n",
    "df.nunique() "
   ]
  },
  {
   "cell_type": "code",
   "execution_count": 2,
   "metadata": {},
   "outputs": [
    {
     "data": {
      "text/plain": [
       "48214"
      ]
     },
     "execution_count": 2,
     "metadata": {},
     "output_type": "execute_result"
    }
   ],
   "source": [
    "# вывод количества уникальных клиентов\n",
    "df.user_id.nunique()"
   ]
  },
  {
   "cell_type": "code",
   "execution_count": 3,
   "metadata": {},
   "outputs": [
    {
     "name": "stdout",
     "output_type": "stream",
     "text": [
      "42872\n"
     ]
    },
    {
     "data": {
      "text/html": [
       "<div>\n",
       "<style scoped>\n",
       "    .dataframe tbody tr th:only-of-type {\n",
       "        vertical-align: middle;\n",
       "    }\n",
       "\n",
       "    .dataframe tbody tr th {\n",
       "        vertical-align: top;\n",
       "    }\n",
       "\n",
       "    .dataframe thead th {\n",
       "        text-align: right;\n",
       "    }\n",
       "</style>\n",
       "<table border=\"1\" class=\"dataframe\">\n",
       "  <thead>\n",
       "    <tr style=\"text-align: right;\">\n",
       "      <th></th>\n",
       "      <th>user_id</th>\n",
       "      <th>order_id</th>\n",
       "      <th>reg_date</th>\n",
       "      <th>transaction_date</th>\n",
       "      <th>revenue</th>\n",
       "    </tr>\n",
       "  </thead>\n",
       "  <tbody>\n",
       "    <tr>\n",
       "      <th>0</th>\n",
       "      <td>57562</td>\n",
       "      <td>94545.0</td>\n",
       "      <td>2013-12-22</td>\n",
       "      <td>2015-07-16</td>\n",
       "      <td>1088</td>\n",
       "    </tr>\n",
       "    <tr>\n",
       "      <th>1</th>\n",
       "      <td>40047</td>\n",
       "      <td>81824.0</td>\n",
       "      <td>2013-11-24</td>\n",
       "      <td>2015-01-19</td>\n",
       "      <td>1027</td>\n",
       "    </tr>\n",
       "    <tr>\n",
       "      <th>3</th>\n",
       "      <td>54591</td>\n",
       "      <td>116111.0</td>\n",
       "      <td>2013-07-12</td>\n",
       "      <td>2015-04-30</td>\n",
       "      <td>881</td>\n",
       "    </tr>\n",
       "    <tr>\n",
       "      <th>4</th>\n",
       "      <td>39789</td>\n",
       "      <td>134943.0</td>\n",
       "      <td>2013-05-25</td>\n",
       "      <td>2015-07-21</td>\n",
       "      <td>984</td>\n",
       "    </tr>\n",
       "    <tr>\n",
       "      <th>6</th>\n",
       "      <td>50977</td>\n",
       "      <td>136343.0</td>\n",
       "      <td>2012-06-27</td>\n",
       "      <td>2015-03-13</td>\n",
       "      <td>1028</td>\n",
       "    </tr>\n",
       "  </tbody>\n",
       "</table>\n",
       "</div>"
      ],
      "text/plain": [
       "   user_id  order_id    reg_date transaction_date  revenue\n",
       "0    57562   94545.0  2013-12-22       2015-07-16     1088\n",
       "1    40047   81824.0  2013-11-24       2015-01-19     1027\n",
       "3    54591  116111.0  2013-07-12       2015-04-30      881\n",
       "4    39789  134943.0  2013-05-25       2015-07-21      984\n",
       "6    50977  136343.0  2012-06-27       2015-03-13     1028"
      ]
     },
     "execution_count": 3,
     "metadata": {},
     "output_type": "execute_result"
    }
   ],
   "source": [
    "# вывод количества уникальных клиентов с датой регистрации до июля\n",
    "dk=df[df['reg_date'] < '2015-07-01']\n",
    "print(dk.user_id.nunique())\n",
    "dk.head()"
   ]
  },
  {
   "cell_type": "code",
   "execution_count": 4,
   "metadata": {},
   "outputs": [
    {
     "name": "stdout",
     "output_type": "stream",
     "text": [
      "12105\n"
     ]
    },
    {
     "data": {
      "text/html": [
       "<div>\n",
       "<style scoped>\n",
       "    .dataframe tbody tr th:only-of-type {\n",
       "        vertical-align: middle;\n",
       "    }\n",
       "\n",
       "    .dataframe tbody tr th {\n",
       "        vertical-align: top;\n",
       "    }\n",
       "\n",
       "    .dataframe thead th {\n",
       "        text-align: right;\n",
       "    }\n",
       "</style>\n",
       "<table border=\"1\" class=\"dataframe\">\n",
       "  <thead>\n",
       "    <tr style=\"text-align: right;\">\n",
       "      <th></th>\n",
       "      <th>user_id</th>\n",
       "      <th>order_id</th>\n",
       "      <th>reg_date</th>\n",
       "      <th>transaction_date</th>\n",
       "      <th>revenue</th>\n",
       "    </tr>\n",
       "  </thead>\n",
       "  <tbody>\n",
       "    <tr>\n",
       "      <th>27086</th>\n",
       "      <td>59846</td>\n",
       "      <td>112803.0</td>\n",
       "      <td>2015-07-01</td>\n",
       "      <td>2015-09-21</td>\n",
       "      <td>1080</td>\n",
       "    </tr>\n",
       "    <tr>\n",
       "      <th>2713</th>\n",
       "      <td>39727</td>\n",
       "      <td>56227.0</td>\n",
       "      <td>2015-07-01</td>\n",
       "      <td>2015-07-23</td>\n",
       "      <td>1089</td>\n",
       "    </tr>\n",
       "    <tr>\n",
       "      <th>4926</th>\n",
       "      <td>96264</td>\n",
       "      <td>62460.0</td>\n",
       "      <td>2015-07-01</td>\n",
       "      <td>2015-07-23</td>\n",
       "      <td>1228</td>\n",
       "    </tr>\n",
       "    <tr>\n",
       "      <th>3446</th>\n",
       "      <td>24304</td>\n",
       "      <td>171580.0</td>\n",
       "      <td>2015-07-01</td>\n",
       "      <td>2015-10-31</td>\n",
       "      <td>736</td>\n",
       "    </tr>\n",
       "    <tr>\n",
       "      <th>25462</th>\n",
       "      <td>27833</td>\n",
       "      <td>97175.0</td>\n",
       "      <td>2015-07-01</td>\n",
       "      <td>2015-11-16</td>\n",
       "      <td>1288</td>\n",
       "    </tr>\n",
       "  </tbody>\n",
       "</table>\n",
       "</div>"
      ],
      "text/plain": [
       "       user_id  order_id    reg_date transaction_date  revenue\n",
       "27086    59846  112803.0  2015-07-01       2015-09-21     1080\n",
       "2713     39727   56227.0  2015-07-01       2015-07-23     1089\n",
       "4926     96264   62460.0  2015-07-01       2015-07-23     1228\n",
       "3446     24304  171580.0  2015-07-01       2015-10-31      736\n",
       "25462    27833   97175.0  2015-07-01       2015-11-16     1288"
      ]
     },
     "execution_count": 4,
     "metadata": {},
     "output_type": "execute_result"
    }
   ],
   "source": [
    "# вывод количества уникальных клиентов с датой регистрации после июля\n",
    "dg=df[df['reg_date'] >= '2015-07-01']\n",
    "print(dg.user_id.nunique())\n",
    "dg = dg.sort_values(['reg_date'])\n",
    "dg.head()\n",
    "# в результате увидели несостыковку в данных, а именно 42872 + 12105 != 48214"
   ]
  },
  {
   "cell_type": "code",
   "execution_count": 59,
   "metadata": {},
   "outputs": [
    {
     "data": {
      "text/html": [
       "<div>\n",
       "<style scoped>\n",
       "    .dataframe tbody tr th:only-of-type {\n",
       "        vertical-align: middle;\n",
       "    }\n",
       "\n",
       "    .dataframe tbody tr th {\n",
       "        vertical-align: top;\n",
       "    }\n",
       "\n",
       "    .dataframe thead th {\n",
       "        text-align: right;\n",
       "    }\n",
       "</style>\n",
       "<table border=\"1\" class=\"dataframe\">\n",
       "  <thead>\n",
       "    <tr style=\"text-align: right;\">\n",
       "      <th></th>\n",
       "      <th>user_id</th>\n",
       "      <th>count</th>\n",
       "    </tr>\n",
       "  </thead>\n",
       "  <tbody>\n",
       "    <tr>\n",
       "      <th>21454</th>\n",
       "      <td>46832</td>\n",
       "      <td>9</td>\n",
       "    </tr>\n",
       "  </tbody>\n",
       "</table>\n",
       "</div>"
      ],
      "text/plain": [
       "       user_id  count\n",
       "21454    46832      9"
      ]
     },
     "execution_count": 59,
     "metadata": {},
     "output_type": "execute_result"
    }
   ],
   "source": [
    "# поиск самого часто встречаемого id клиента\n",
    "dd = df.groupby(['user_id']).size().reset_index(name='count')\n",
    "dd=dd[dd['count'] > 8]\n",
    "dd.head(20)"
   ]
  },
  {
   "cell_type": "code",
   "execution_count": 60,
   "metadata": {},
   "outputs": [
    {
     "data": {
      "text/html": [
       "<div>\n",
       "<style scoped>\n",
       "    .dataframe tbody tr th:only-of-type {\n",
       "        vertical-align: middle;\n",
       "    }\n",
       "\n",
       "    .dataframe tbody tr th {\n",
       "        vertical-align: top;\n",
       "    }\n",
       "\n",
       "    .dataframe thead th {\n",
       "        text-align: right;\n",
       "    }\n",
       "</style>\n",
       "<table border=\"1\" class=\"dataframe\">\n",
       "  <thead>\n",
       "    <tr style=\"text-align: right;\">\n",
       "      <th></th>\n",
       "      <th>user_id</th>\n",
       "      <th>order_id</th>\n",
       "      <th>reg_date</th>\n",
       "      <th>transaction_date</th>\n",
       "      <th>revenue</th>\n",
       "    </tr>\n",
       "  </thead>\n",
       "  <tbody>\n",
       "    <tr>\n",
       "      <th>14143</th>\n",
       "      <td>46832</td>\n",
       "      <td>116348.0</td>\n",
       "      <td>2013-10-25</td>\n",
       "      <td>2015-06-16</td>\n",
       "      <td>1325</td>\n",
       "    </tr>\n",
       "    <tr>\n",
       "      <th>65498</th>\n",
       "      <td>46832</td>\n",
       "      <td>119859.0</td>\n",
       "      <td>2014-01-13</td>\n",
       "      <td>2015-02-19</td>\n",
       "      <td>1093</td>\n",
       "    </tr>\n",
       "    <tr>\n",
       "      <th>11357</th>\n",
       "      <td>46832</td>\n",
       "      <td>168631.0</td>\n",
       "      <td>2014-01-27</td>\n",
       "      <td>2015-05-06</td>\n",
       "      <td>906</td>\n",
       "    </tr>\n",
       "    <tr>\n",
       "      <th>55924</th>\n",
       "      <td>46832</td>\n",
       "      <td>119140.0</td>\n",
       "      <td>2014-04-30</td>\n",
       "      <td>2015-07-29</td>\n",
       "      <td>1251</td>\n",
       "    </tr>\n",
       "    <tr>\n",
       "      <th>18583</th>\n",
       "      <td>46832</td>\n",
       "      <td>54590.0</td>\n",
       "      <td>2014-09-12</td>\n",
       "      <td>2015-07-31</td>\n",
       "      <td>1254</td>\n",
       "    </tr>\n",
       "    <tr>\n",
       "      <th>633</th>\n",
       "      <td>46832</td>\n",
       "      <td>120641.0</td>\n",
       "      <td>2014-10-11</td>\n",
       "      <td>2015-11-07</td>\n",
       "      <td>535</td>\n",
       "    </tr>\n",
       "    <tr>\n",
       "      <th>27617</th>\n",
       "      <td>46832</td>\n",
       "      <td>106417.0</td>\n",
       "      <td>2014-10-23</td>\n",
       "      <td>2015-03-03</td>\n",
       "      <td>1032</td>\n",
       "    </tr>\n",
       "    <tr>\n",
       "      <th>52091</th>\n",
       "      <td>46832</td>\n",
       "      <td>110713.0</td>\n",
       "      <td>2015-02-15</td>\n",
       "      <td>2015-11-12</td>\n",
       "      <td>1344</td>\n",
       "    </tr>\n",
       "    <tr>\n",
       "      <th>20814</th>\n",
       "      <td>46832</td>\n",
       "      <td>-10657.0</td>\n",
       "      <td>2015-04-17</td>\n",
       "      <td>2015-08-06</td>\n",
       "      <td>656</td>\n",
       "    </tr>\n",
       "  </tbody>\n",
       "</table>\n",
       "</div>"
      ],
      "text/plain": [
       "       user_id  order_id    reg_date transaction_date  revenue\n",
       "14143    46832  116348.0  2013-10-25       2015-06-16     1325\n",
       "65498    46832  119859.0  2014-01-13       2015-02-19     1093\n",
       "11357    46832  168631.0  2014-01-27       2015-05-06      906\n",
       "55924    46832  119140.0  2014-04-30       2015-07-29     1251\n",
       "18583    46832   54590.0  2014-09-12       2015-07-31     1254\n",
       "633      46832  120641.0  2014-10-11       2015-11-07      535\n",
       "27617    46832  106417.0  2014-10-23       2015-03-03     1032\n",
       "52091    46832  110713.0  2015-02-15       2015-11-12     1344\n",
       "20814    46832  -10657.0  2015-04-17       2015-08-06      656"
      ]
     },
     "execution_count": 60,
     "metadata": {},
     "output_type": "execute_result"
    }
   ],
   "source": [
    "# вывод для анализа даты регистрации\n",
    "ds=df[df['user_id'] == 46832]\n",
    "ds=ds.sort_values(['reg_date'])\n",
    "ds.head(10)"
   ]
  },
  {
   "cell_type": "markdown",
   "metadata": {},
   "source": [
    "Мы видим, что с одним и тем же user_id дата регистрации указана разная, надо исправить reg_date для одинаковых user_id."
   ]
  },
  {
   "cell_type": "code",
   "execution_count": 204,
   "metadata": {},
   "outputs": [
    {
     "data": {
      "text/html": [
       "<div>\n",
       "<style scoped>\n",
       "    .dataframe tbody tr th:only-of-type {\n",
       "        vertical-align: middle;\n",
       "    }\n",
       "\n",
       "    .dataframe tbody tr th {\n",
       "        vertical-align: top;\n",
       "    }\n",
       "\n",
       "    .dataframe thead th {\n",
       "        text-align: right;\n",
       "    }\n",
       "</style>\n",
       "<table border=\"1\" class=\"dataframe\">\n",
       "  <thead>\n",
       "    <tr style=\"text-align: right;\">\n",
       "      <th></th>\n",
       "      <th>user_id</th>\n",
       "      <th>order_id</th>\n",
       "      <th>reg_date</th>\n",
       "      <th>transaction_date</th>\n",
       "      <th>revenue</th>\n",
       "      <th>count</th>\n",
       "    </tr>\n",
       "  </thead>\n",
       "  <tbody>\n",
       "    <tr>\n",
       "      <th>0</th>\n",
       "      <td>57562</td>\n",
       "      <td>94545.0</td>\n",
       "      <td>2013-12-22</td>\n",
       "      <td>2015-07-16</td>\n",
       "      <td>1088</td>\n",
       "      <td>2</td>\n",
       "    </tr>\n",
       "    <tr>\n",
       "      <th>1</th>\n",
       "      <td>57562</td>\n",
       "      <td>56350.0</td>\n",
       "      <td>2013-07-07</td>\n",
       "      <td>2015-11-01</td>\n",
       "      <td>1182</td>\n",
       "      <td>2</td>\n",
       "    </tr>\n",
       "    <tr>\n",
       "      <th>2</th>\n",
       "      <td>40047</td>\n",
       "      <td>81824.0</td>\n",
       "      <td>2013-11-24</td>\n",
       "      <td>2015-01-19</td>\n",
       "      <td>1027</td>\n",
       "      <td>3</td>\n",
       "    </tr>\n",
       "    <tr>\n",
       "      <th>3</th>\n",
       "      <td>40047</td>\n",
       "      <td>92251.0</td>\n",
       "      <td>2014-10-05</td>\n",
       "      <td>2015-09-02</td>\n",
       "      <td>1346</td>\n",
       "      <td>3</td>\n",
       "    </tr>\n",
       "    <tr>\n",
       "      <th>4</th>\n",
       "      <td>40047</td>\n",
       "      <td>84376.0</td>\n",
       "      <td>2015-02-10</td>\n",
       "      <td>2015-02-25</td>\n",
       "      <td>852</td>\n",
       "      <td>3</td>\n",
       "    </tr>\n",
       "    <tr>\n",
       "      <th>5</th>\n",
       "      <td>48153</td>\n",
       "      <td>144851.0</td>\n",
       "      <td>2015-07-03</td>\n",
       "      <td>2015-10-29</td>\n",
       "      <td>601</td>\n",
       "      <td>1</td>\n",
       "    </tr>\n",
       "    <tr>\n",
       "      <th>6</th>\n",
       "      <td>54591</td>\n",
       "      <td>116111.0</td>\n",
       "      <td>2013-07-12</td>\n",
       "      <td>2015-04-30</td>\n",
       "      <td>881</td>\n",
       "      <td>4</td>\n",
       "    </tr>\n",
       "    <tr>\n",
       "      <th>7</th>\n",
       "      <td>54591</td>\n",
       "      <td>78414.0</td>\n",
       "      <td>2015-01-19</td>\n",
       "      <td>2015-06-27</td>\n",
       "      <td>851</td>\n",
       "      <td>4</td>\n",
       "    </tr>\n",
       "    <tr>\n",
       "      <th>8</th>\n",
       "      <td>54591</td>\n",
       "      <td>115354.0</td>\n",
       "      <td>2015-01-17</td>\n",
       "      <td>2015-09-13</td>\n",
       "      <td>908</td>\n",
       "      <td>4</td>\n",
       "    </tr>\n",
       "    <tr>\n",
       "      <th>9</th>\n",
       "      <td>54591</td>\n",
       "      <td>152028.0</td>\n",
       "      <td>2014-12-03</td>\n",
       "      <td>2015-04-08</td>\n",
       "      <td>1110</td>\n",
       "      <td>4</td>\n",
       "    </tr>\n",
       "  </tbody>\n",
       "</table>\n",
       "</div>"
      ],
      "text/plain": [
       "   user_id  order_id    reg_date transaction_date  revenue  count\n",
       "0    57562   94545.0  2013-12-22       2015-07-16     1088      2\n",
       "1    57562   56350.0  2013-07-07       2015-11-01     1182      2\n",
       "2    40047   81824.0  2013-11-24       2015-01-19     1027      3\n",
       "3    40047   92251.0  2014-10-05       2015-09-02     1346      3\n",
       "4    40047   84376.0  2015-02-10       2015-02-25      852      3\n",
       "5    48153  144851.0  2015-07-03       2015-10-29      601      1\n",
       "6    54591  116111.0  2013-07-12       2015-04-30      881      4\n",
       "7    54591   78414.0  2015-01-19       2015-06-27      851      4\n",
       "8    54591  115354.0  2015-01-17       2015-09-13      908      4\n",
       "9    54591  152028.0  2014-12-03       2015-04-08     1110      4"
      ]
     },
     "execution_count": 204,
     "metadata": {},
     "output_type": "execute_result"
    }
   ],
   "source": [
    "dd = df.groupby(['user_id']).size().reset_index(name='count')\n",
    "new=pd.merge(df, dd, how ='inner', on ='user_id')\n",
    "new.head(10)"
   ]
  },
  {
   "cell_type": "code",
   "execution_count": 205,
   "metadata": {},
   "outputs": [],
   "source": [
    "bd=new\n",
    "bb=new"
   ]
  },
  {
   "cell_type": "markdown",
   "metadata": {},
   "source": [
    "Для исправления даты регистрации запускаем следующий шаг:"
   ]
  },
  {
   "cell_type": "code",
   "execution_count": 778,
   "metadata": {},
   "outputs": [
    {
     "ename": "ValueError",
     "evalue": "min() arg is an empty sequence",
     "output_type": "error",
     "traceback": [
      "\u001b[1;31m---------------------------------------------------------------------------\u001b[0m",
      "\u001b[1;31mValueError\u001b[0m                                Traceback (most recent call last)",
      "\u001b[1;32m<ipython-input-778-742e932048d0>\u001b[0m in \u001b[0;36m<module>\u001b[1;34m\u001b[0m\n\u001b[0;32m      3\u001b[0m     \u001b[0mbd\u001b[0m\u001b[1;33m=\u001b[0m\u001b[0mbd\u001b[0m\u001b[1;33m.\u001b[0m\u001b[0msort_values\u001b[0m\u001b[1;33m(\u001b[0m\u001b[1;33m[\u001b[0m\u001b[1;34m'reg_date'\u001b[0m\u001b[1;33m]\u001b[0m\u001b[1;33m)\u001b[0m\u001b[1;33m\u001b[0m\u001b[1;33m\u001b[0m\u001b[0m\n\u001b[0;32m      4\u001b[0m     \u001b[0mbd\u001b[0m\u001b[1;33m=\u001b[0m\u001b[0mbd\u001b[0m\u001b[1;33m.\u001b[0m\u001b[0msort_values\u001b[0m\u001b[1;33m(\u001b[0m\u001b[1;33m[\u001b[0m\u001b[1;34m'user_id'\u001b[0m\u001b[1;33m]\u001b[0m\u001b[1;33m)\u001b[0m\u001b[1;33m\u001b[0m\u001b[1;33m\u001b[0m\u001b[0m\n\u001b[1;32m----> 5\u001b[1;33m     \u001b[0midd\u001b[0m\u001b[1;33m=\u001b[0m\u001b[0mmin\u001b[0m\u001b[1;33m(\u001b[0m\u001b[0mbd\u001b[0m\u001b[1;33m[\u001b[0m\u001b[1;34m'user_id'\u001b[0m\u001b[1;33m]\u001b[0m\u001b[1;33m)\u001b[0m\u001b[1;33m\u001b[0m\u001b[1;33m\u001b[0m\u001b[0m\n\u001b[0m\u001b[0;32m      6\u001b[0m     \u001b[0mbd\u001b[0m\u001b[1;33m=\u001b[0m\u001b[0mbd\u001b[0m\u001b[1;33m[\u001b[0m\u001b[0mbd\u001b[0m\u001b[1;33m[\u001b[0m\u001b[1;34m'user_id'\u001b[0m\u001b[1;33m]\u001b[0m \u001b[1;33m==\u001b[0m\u001b[0midd\u001b[0m\u001b[1;33m]\u001b[0m\u001b[1;33m\u001b[0m\u001b[1;33m\u001b[0m\u001b[0m\n\u001b[0;32m      7\u001b[0m     \u001b[0mbd\u001b[0m\u001b[1;33m=\u001b[0m\u001b[0mbd\u001b[0m\u001b[1;33m.\u001b[0m\u001b[0msort_values\u001b[0m\u001b[1;33m(\u001b[0m\u001b[1;33m[\u001b[0m\u001b[1;34m'reg_date'\u001b[0m\u001b[1;33m]\u001b[0m\u001b[1;33m)\u001b[0m\u001b[1;33m\u001b[0m\u001b[1;33m\u001b[0m\u001b[0m\n",
      "\u001b[1;31mValueError\u001b[0m: min() arg is an empty sequence"
     ]
    }
   ],
   "source": [
    "for i in range(1000):\n",
    "    bd=bb[bb['count'] > 1]\n",
    "    bd=bd.sort_values(['reg_date'])\n",
    "    bd=bd.sort_values(['user_id'])\n",
    "    idd=min(bd['user_id'])\n",
    "    bd=bd[bd['user_id'] ==idd]\n",
    "    bd=bd.sort_values(['reg_date'])\n",
    "    mindate=min(bd['reg_date'])\n",
    "    bb['reg_date'] = np.where(bb['user_id'] == idd, mindate, bb['reg_date'])\n",
    "    bb['count'] = np.where(bb['user_id'] == idd, 1, bb['count'])"
   ]
  },
  {
   "cell_type": "code",
   "execution_count": 783,
   "metadata": {},
   "outputs": [
    {
     "data": {
      "text/plain": [
       "user_id             48214\n",
       "order_id            76857\n",
       "reg_date             1363\n",
       "transaction_date      324\n",
       "revenue              1630\n",
       "count                   1\n",
       "dtype: int64"
      ]
     },
     "execution_count": 783,
     "metadata": {},
     "output_type": "execute_result"
    }
   ],
   "source": [
    "# проверка того, что больше не осталось данных с неверной датой регистрации по count\n",
    "bb.nunique() "
   ]
  },
  {
   "cell_type": "code",
   "execution_count": 793,
   "metadata": {},
   "outputs": [],
   "source": [
    "bb=bb.drop(['count'], axis = 1)"
   ]
  },
  {
   "cell_type": "code",
   "execution_count": 794,
   "metadata": {},
   "outputs": [],
   "source": [
    "# сохраняем исправленный набор, выложен в репозитории\n",
    "bb.to_csv('new_analyst_test1.csv')"
   ]
  },
  {
   "cell_type": "markdown",
   "metadata": {},
   "source": [
    "Retention Rate -это показатель того, сколько людей остаются вашими клиентами на протяжении определенного количества времени. Этот коэффициент можно измерить например за месяц, квартал или год. Он отображает, насколько высок уровень лояльности клиентов к вашему бизнесу.\n",
    "\n",
    "Формула для вычисления данного показателя выглядит так:\n",
    "\n",
    " **Retention = ( CE - CN ) \\ CS * 100**\n",
    "\n",
    "**CE** - это количество клиентов на конец периода.\n",
    "\n",
    "**CN** - это количество новых клиентов, приобретенных за период.\n",
    "\n",
    "**CS** - это количество клиентов на начало периода."
   ]
  },
  {
   "cell_type": "code",
   "execution_count": 804,
   "metadata": {},
   "outputs": [
    {
     "name": "stdout",
     "output_type": "stream",
     "text": [
      "42872\n"
     ]
    }
   ],
   "source": [
    "# вывод количества клиентов до акции\n",
    "d1=bb[bb['reg_date'] < '2015-07-01']\n",
    "print(d1.user_id.nunique())\n",
    "CS=d1.user_id.nunique()"
   ]
  },
  {
   "cell_type": "code",
   "execution_count": 805,
   "metadata": {},
   "outputs": [
    {
     "name": "stdout",
     "output_type": "stream",
     "text": [
      "27275\n"
     ]
    }
   ],
   "source": [
    "# вывод колиства клиентов, которые ушли. \n",
    "# Исходила из той логики, что эти пользователи были зарегестрированы до акции и после июля не выволняли транзакции\n",
    "d2=d1[d1['transaction_date'] < '2015-07-01']\n",
    "print(d2.user_id.nunique())\n",
    "x=d2.user_id.nunique()"
   ]
  },
  {
   "cell_type": "code",
   "execution_count": 806,
   "metadata": {},
   "outputs": [
    {
     "name": "stdout",
     "output_type": "stream",
     "text": [
      "5342\n"
     ]
    }
   ],
   "source": [
    "# вывод количества новых клиентов\n",
    "d3=bb[bb['reg_date'] >= '2015-07-01']\n",
    "print(d3.user_id.nunique())\n",
    "CN=d3.user_id.nunique()"
   ]
  },
  {
   "cell_type": "code",
   "execution_count": 807,
   "metadata": {},
   "outputs": [
    {
     "name": "stdout",
     "output_type": "stream",
     "text": [
      "20939\n"
     ]
    }
   ],
   "source": [
    "# вывод количества клиентов после акции\n",
    "CE=CS+(CN-x)\n",
    "print(CE)"
   ]
  },
  {
   "cell_type": "code",
   "execution_count": 810,
   "metadata": {},
   "outputs": [
    {
     "name": "stdout",
     "output_type": "stream",
     "text": [
      "36.3803881321142\n"
     ]
    }
   ],
   "source": [
    "Retention=(CE-CN)/CS*100\n",
    "print(Retention)"
   ]
  },
  {
   "cell_type": "markdown",
   "metadata": {},
   "source": [
    "Исходя из того, что Retention=36.38% можно сделать вывод о том, что акция прошла неудачно.\n",
    "\n",
    "*Но допускаю возможность, что я неправильно рассчитала количество ушедших клиентов*"
   ]
  }
 ],
 "metadata": {
  "kernelspec": {
   "display_name": "Python 3",
   "language": "python",
   "name": "python3"
  },
  "language_info": {
   "codemirror_mode": {
    "name": "ipython",
    "version": 3
   },
   "file_extension": ".py",
   "mimetype": "text/x-python",
   "name": "python",
   "nbconvert_exporter": "python",
   "pygments_lexer": "ipython3",
   "version": "3.7.3"
  }
 },
 "nbformat": 4,
 "nbformat_minor": 4
}
